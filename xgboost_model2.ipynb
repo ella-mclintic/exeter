{
  "nbformat": 4,
  "nbformat_minor": 0,
  "metadata": {
    "colab": {
      "provenance": []
    },
    "kernelspec": {
      "name": "python3",
      "display_name": "Python 3"
    },
    "language_info": {
      "name": "python"
    }
  },
  "cells": [
    {
      "cell_type": "code",
      "execution_count": 33,
      "metadata": {
        "id": "QPZCvB6rII27"
      },
      "outputs": [],
      "source": [
        "import pandas as pd\n",
        "import numpy as np"
      ]
    },
    {
      "cell_type": "code",
      "source": [
        "%pip install xgboost"
      ],
      "metadata": {
        "id": "cAueBPiKIeKS",
        "colab": {
          "base_uri": "https://localhost:8080/"
        },
        "outputId": "53e4fb6f-398c-4c8f-ec4b-9c5383b0c97b"
      },
      "execution_count": null,
      "outputs": [
        {
          "output_type": "stream",
          "name": "stdout",
          "text": [
            "Requirement already satisfied: xgboost in /usr/local/lib/python3.10/dist-packages (2.0.2)\n",
            "Requirement already satisfied: numpy in /usr/local/lib/python3.10/dist-packages (from xgboost) (1.23.5)\n",
            "Requirement already satisfied: scipy in /usr/local/lib/python3.10/dist-packages (from xgboost) (1.11.3)\n"
          ]
        }
      ]
    },
    {
      "cell_type": "code",
      "source": [
        "import xgboost as xgb"
      ],
      "metadata": {
        "id": "H6rvKdP4Ijgc"
      },
      "execution_count": 34,
      "outputs": []
    },
    {
      "cell_type": "code",
      "source": [
        "# Read data\n",
        "df = pd.read_csv('clean_enviro_data.csv')"
      ],
      "metadata": {
        "id": "MXsqE5K6IoT2"
      },
      "execution_count": 35,
      "outputs": []
    },
    {
      "cell_type": "code",
      "source": [
        "df"
      ],
      "metadata": {
        "id": "HRLACdNXGPNF"
      },
      "execution_count": null,
      "outputs": []
    },
    {
      "cell_type": "code",
      "source": [
        "#features\n",
        "features = ['age', 'sex', 'married', 'children', 'highest_qual','income','party','voted']\n",
        "y = 'cc_threat'"
      ],
      "metadata": {
        "id": "JRMGFuXHI0Hr"
      },
      "execution_count": 36,
      "outputs": []
    },
    {
      "cell_type": "code",
      "source": [
        "#traning and test sets\n",
        "from sklearn.model_selection import train_test_split\n",
        "df_train, df_test = train_test_split(df, test_size=0.2, random_state=42)"
      ],
      "metadata": {
        "id": "TtROL3mWI9aK"
      },
      "execution_count": 37,
      "outputs": []
    },
    {
      "cell_type": "code",
      "source": [
        "xgb_model = xgb.XGBClassifier(objective='binary:logistic')"
      ],
      "metadata": {
        "id": "TEa_Upo_JEUN"
      },
      "execution_count": 38,
      "outputs": []
    },
    {
      "cell_type": "code",
      "source": [
        "xgb_model.fit(df_train[features], df_train[y])"
      ],
      "metadata": {
        "colab": {
          "base_uri": "https://localhost:8080/",
          "height": 248
        },
        "id": "ARJRmc-jJLn_",
        "outputId": "db306fe1-3493-4773-ff01-1e1b9996c8f9"
      },
      "execution_count": 39,
      "outputs": [
        {
          "output_type": "execute_result",
          "data": {
            "text/plain": [
              "XGBClassifier(base_score=None, booster=None, callbacks=None,\n",
              "              colsample_bylevel=None, colsample_bynode=None,\n",
              "              colsample_bytree=None, device=None, early_stopping_rounds=None,\n",
              "              enable_categorical=False, eval_metric=None, feature_types=None,\n",
              "              gamma=None, grow_policy=None, importance_type=None,\n",
              "              interaction_constraints=None, learning_rate=None, max_bin=None,\n",
              "              max_cat_threshold=None, max_cat_to_onehot=None,\n",
              "              max_delta_step=None, max_depth=None, max_leaves=None,\n",
              "              min_child_weight=None, missing=nan, monotone_constraints=None,\n",
              "              multi_strategy=None, n_estimators=None, n_jobs=None,\n",
              "              num_parallel_tree=None, random_state=None, ...)"
            ],
            "text/html": [
              "<style>#sk-container-id-5 {color: black;background-color: white;}#sk-container-id-5 pre{padding: 0;}#sk-container-id-5 div.sk-toggleable {background-color: white;}#sk-container-id-5 label.sk-toggleable__label {cursor: pointer;display: block;width: 100%;margin-bottom: 0;padding: 0.3em;box-sizing: border-box;text-align: center;}#sk-container-id-5 label.sk-toggleable__label-arrow:before {content: \"▸\";float: left;margin-right: 0.25em;color: #696969;}#sk-container-id-5 label.sk-toggleable__label-arrow:hover:before {color: black;}#sk-container-id-5 div.sk-estimator:hover label.sk-toggleable__label-arrow:before {color: black;}#sk-container-id-5 div.sk-toggleable__content {max-height: 0;max-width: 0;overflow: hidden;text-align: left;background-color: #f0f8ff;}#sk-container-id-5 div.sk-toggleable__content pre {margin: 0.2em;color: black;border-radius: 0.25em;background-color: #f0f8ff;}#sk-container-id-5 input.sk-toggleable__control:checked~div.sk-toggleable__content {max-height: 200px;max-width: 100%;overflow: auto;}#sk-container-id-5 input.sk-toggleable__control:checked~label.sk-toggleable__label-arrow:before {content: \"▾\";}#sk-container-id-5 div.sk-estimator input.sk-toggleable__control:checked~label.sk-toggleable__label {background-color: #d4ebff;}#sk-container-id-5 div.sk-label input.sk-toggleable__control:checked~label.sk-toggleable__label {background-color: #d4ebff;}#sk-container-id-5 input.sk-hidden--visually {border: 0;clip: rect(1px 1px 1px 1px);clip: rect(1px, 1px, 1px, 1px);height: 1px;margin: -1px;overflow: hidden;padding: 0;position: absolute;width: 1px;}#sk-container-id-5 div.sk-estimator {font-family: monospace;background-color: #f0f8ff;border: 1px dotted black;border-radius: 0.25em;box-sizing: border-box;margin-bottom: 0.5em;}#sk-container-id-5 div.sk-estimator:hover {background-color: #d4ebff;}#sk-container-id-5 div.sk-parallel-item::after {content: \"\";width: 100%;border-bottom: 1px solid gray;flex-grow: 1;}#sk-container-id-5 div.sk-label:hover label.sk-toggleable__label {background-color: #d4ebff;}#sk-container-id-5 div.sk-serial::before {content: \"\";position: absolute;border-left: 1px solid gray;box-sizing: border-box;top: 0;bottom: 0;left: 50%;z-index: 0;}#sk-container-id-5 div.sk-serial {display: flex;flex-direction: column;align-items: center;background-color: white;padding-right: 0.2em;padding-left: 0.2em;position: relative;}#sk-container-id-5 div.sk-item {position: relative;z-index: 1;}#sk-container-id-5 div.sk-parallel {display: flex;align-items: stretch;justify-content: center;background-color: white;position: relative;}#sk-container-id-5 div.sk-item::before, #sk-container-id-5 div.sk-parallel-item::before {content: \"\";position: absolute;border-left: 1px solid gray;box-sizing: border-box;top: 0;bottom: 0;left: 50%;z-index: -1;}#sk-container-id-5 div.sk-parallel-item {display: flex;flex-direction: column;z-index: 1;position: relative;background-color: white;}#sk-container-id-5 div.sk-parallel-item:first-child::after {align-self: flex-end;width: 50%;}#sk-container-id-5 div.sk-parallel-item:last-child::after {align-self: flex-start;width: 50%;}#sk-container-id-5 div.sk-parallel-item:only-child::after {width: 0;}#sk-container-id-5 div.sk-dashed-wrapped {border: 1px dashed gray;margin: 0 0.4em 0.5em 0.4em;box-sizing: border-box;padding-bottom: 0.4em;background-color: white;}#sk-container-id-5 div.sk-label label {font-family: monospace;font-weight: bold;display: inline-block;line-height: 1.2em;}#sk-container-id-5 div.sk-label-container {text-align: center;}#sk-container-id-5 div.sk-container {/* jupyter's `normalize.less` sets `[hidden] { display: none; }` but bootstrap.min.css set `[hidden] { display: none !important; }` so we also need the `!important` here to be able to override the default hidden behavior on the sphinx rendered scikit-learn.org. See: https://github.com/scikit-learn/scikit-learn/issues/21755 */display: inline-block !important;position: relative;}#sk-container-id-5 div.sk-text-repr-fallback {display: none;}</style><div id=\"sk-container-id-5\" class=\"sk-top-container\"><div class=\"sk-text-repr-fallback\"><pre>XGBClassifier(base_score=None, booster=None, callbacks=None,\n",
              "              colsample_bylevel=None, colsample_bynode=None,\n",
              "              colsample_bytree=None, device=None, early_stopping_rounds=None,\n",
              "              enable_categorical=False, eval_metric=None, feature_types=None,\n",
              "              gamma=None, grow_policy=None, importance_type=None,\n",
              "              interaction_constraints=None, learning_rate=None, max_bin=None,\n",
              "              max_cat_threshold=None, max_cat_to_onehot=None,\n",
              "              max_delta_step=None, max_depth=None, max_leaves=None,\n",
              "              min_child_weight=None, missing=nan, monotone_constraints=None,\n",
              "              multi_strategy=None, n_estimators=None, n_jobs=None,\n",
              "              num_parallel_tree=None, random_state=None, ...)</pre><b>In a Jupyter environment, please rerun this cell to show the HTML representation or trust the notebook. <br />On GitHub, the HTML representation is unable to render, please try loading this page with nbviewer.org.</b></div><div class=\"sk-container\" hidden><div class=\"sk-item\"><div class=\"sk-estimator sk-toggleable\"><input class=\"sk-toggleable__control sk-hidden--visually\" id=\"sk-estimator-id-5\" type=\"checkbox\" checked><label for=\"sk-estimator-id-5\" class=\"sk-toggleable__label sk-toggleable__label-arrow\">XGBClassifier</label><div class=\"sk-toggleable__content\"><pre>XGBClassifier(base_score=None, booster=None, callbacks=None,\n",
              "              colsample_bylevel=None, colsample_bynode=None,\n",
              "              colsample_bytree=None, device=None, early_stopping_rounds=None,\n",
              "              enable_categorical=False, eval_metric=None, feature_types=None,\n",
              "              gamma=None, grow_policy=None, importance_type=None,\n",
              "              interaction_constraints=None, learning_rate=None, max_bin=None,\n",
              "              max_cat_threshold=None, max_cat_to_onehot=None,\n",
              "              max_delta_step=None, max_depth=None, max_leaves=None,\n",
              "              min_child_weight=None, missing=nan, monotone_constraints=None,\n",
              "              multi_strategy=None, n_estimators=None, n_jobs=None,\n",
              "              num_parallel_tree=None, random_state=None, ...)</pre></div></div></div></div></div>"
            ]
          },
          "metadata": {},
          "execution_count": 39
        }
      ]
    },
    {
      "cell_type": "code",
      "source": [
        "# Import from sklearn\n",
        "from sklearn.metrics import precision_score\n",
        "from sklearn.metrics import recall_score\n",
        "from sklearn.metrics import f1_score\n",
        "from sklearn.metrics import accuracy_score\n",
        "\n",
        "# evaluate accuracy\n",
        "accuracy=accuracy_score(df_test[y], y_pred)\n",
        "print(f'Accuracy is {accuracy}')\n",
        "\n",
        "# predictions\n",
        "y_pred = xgb_model.predict(df_test[features])\n",
        "\n",
        "# precision\n",
        "precision = precision_score(df_test[y], y_pred)\n",
        "print(f'Precision is {precision}')\n",
        "\n",
        "# recall\n",
        "recall = recall_score(df_test[y], y_pred)\n",
        "print(f'Recall is {recall}')\n",
        "\n",
        "# F1 score\n",
        "f1 = f1_score(df_test[y], y_pred)\n",
        "print(f'F1 score is {f1}')"
      ],
      "metadata": {
        "colab": {
          "base_uri": "https://localhost:8080/"
        },
        "id": "g6A5UPiFMdIn",
        "outputId": "9d949f0d-18ef-4f55-ecfd-9f69479b6eb9"
      },
      "execution_count": 43,
      "outputs": [
        {
          "output_type": "stream",
          "name": "stdout",
          "text": [
            "Accuracy is 0.8408163265306122\n",
            "Precision is 0.9078341013824884\n",
            "Recall is 0.9120370370370371\n",
            "F1 score is 0.9099307159353348\n"
          ]
        }
      ]
    },
    {
      "cell_type": "markdown",
      "source": [
        "###Adjusting the hyperparameters:\n"
      ],
      "metadata": {
        "id": "JYNOs8JtN8vH"
      }
    },
    {
      "cell_type": "code",
      "source": [
        "# Let's lower the learning rate\n",
        "xgb_model = xgb.XGBClassifier(objective='binary:logistic', colsample_bytree = 0.5118586400408849, learning_rate = 0.05375221185047551, max_depth = 7, min_child_weight = 12, n_estimators = 744, subsample = 0.5426146441765256)\n",
        "\n",
        "# Fit the model\n",
        "xgb_model.fit(df_train[features], df_train[y])\n",
        "\n",
        "# Make predictions\n",
        "y_pred = xgb_model.predict(df_test[features])\n",
        "\n",
        "#calculate accuracy\n",
        "accuracy=accuracy_score(df_test[y], y_pred)\n",
        "print(f'Accuracy is {accuracy}')\n",
        "\n",
        "# Calculate precision\n",
        "precision = precision_score(df_test[y], y_pred)\n",
        "print(f'Precision is {precision}')\n",
        "\n",
        "# Calculate recall\n",
        "recall = recall_score(df_test[y], y_pred)\n",
        "print(f'Recall is {recall}')\n",
        "\n",
        "# Calculate F1 score\n",
        "f1 = f1_score(df_test[y], y_pred)\n",
        "print(f'F1 score is {f1}')"
      ],
      "metadata": {
        "colab": {
          "base_uri": "https://localhost:8080/"
        },
        "id": "U9jCuKsEMp2h",
        "outputId": "ea5c897d-9396-41ff-fa3f-ddf1131ef43a"
      },
      "execution_count": 44,
      "outputs": [
        {
          "output_type": "stream",
          "name": "stdout",
          "text": [
            "Accuracy is 0.8938775510204081\n",
            "Precision is 0.8925619834710744\n",
            "Recall is 1.0\n",
            "F1 score is 0.9432314410480349\n"
          ]
        }
      ]
    },
    {
      "cell_type": "markdown",
      "source": [
        "###**Bayesian Optimisation**"
      ],
      "metadata": {
        "id": "1RVW5kxiOQJl"
      }
    },
    {
      "cell_type": "code",
      "source": [
        "%pip install hyperopt"
      ],
      "metadata": {
        "colab": {
          "base_uri": "https://localhost:8080/"
        },
        "id": "nsrB4GBsNhWO",
        "outputId": "099ddc85-1935-407b-be64-48424d40528c"
      },
      "execution_count": 23,
      "outputs": [
        {
          "output_type": "stream",
          "name": "stdout",
          "text": [
            "Requirement already satisfied: hyperopt in /usr/local/lib/python3.10/dist-packages (0.2.7)\n",
            "Requirement already satisfied: numpy in /usr/local/lib/python3.10/dist-packages (from hyperopt) (1.23.5)\n",
            "Requirement already satisfied: scipy in /usr/local/lib/python3.10/dist-packages (from hyperopt) (1.11.3)\n",
            "Requirement already satisfied: six in /usr/local/lib/python3.10/dist-packages (from hyperopt) (1.16.0)\n",
            "Requirement already satisfied: networkx>=2.2 in /usr/local/lib/python3.10/dist-packages (from hyperopt) (3.2.1)\n",
            "Requirement already satisfied: future in /usr/local/lib/python3.10/dist-packages (from hyperopt) (0.18.3)\n",
            "Requirement already satisfied: tqdm in /usr/local/lib/python3.10/dist-packages (from hyperopt) (4.66.1)\n",
            "Requirement already satisfied: cloudpickle in /usr/local/lib/python3.10/dist-packages (from hyperopt) (2.2.1)\n",
            "Requirement already satisfied: py4j in /usr/local/lib/python3.10/dist-packages (from hyperopt) (0.10.9.7)\n"
          ]
        }
      ]
    },
    {
      "cell_type": "code",
      "source": [
        "from hyperopt import fmin, tpe, hp, STATUS_OK\n",
        "from hyperopt.pyll.base import scope # for controlling data types"
      ],
      "metadata": {
        "id": "LXZvICtOOZxR"
      },
      "execution_count": 24,
      "outputs": []
    },
    {
      "cell_type": "code",
      "source": [
        "#scope.int specifies it's an integer not a float, learning rate is a float\n",
        "space = {\n",
        "    'max_depth': scope.int(hp.quniform('max_depth', 1, 15, 1)),\n",
        "    'min_child_weight':  scope.int(hp.quniform('min_child_weight', 1, 15, 1)),\n",
        "    'learning_rate': hp.loguniform('learning_rate', -5, -2),\n",
        "    'subsample': hp.uniform('subsample', 0.5, 1),\n",
        "    'colsample_bytree': hp.uniform('colsample_bytree', 0.1, 1),\n",
        "    'n_estimators':  scope.int(hp.quniform('n_estimators', 100, 1000, 1))\n",
        "}"
      ],
      "metadata": {
        "id": "y8ShLgV7OezP"
      },
      "execution_count": 25,
      "outputs": []
    },
    {
      "cell_type": "code",
      "source": [
        "# Define the objective function to minimize, -score means to minimise score\n",
        "def objective(params):\n",
        "    xgb_model = xgb.XGBClassifier(objective='binary:logistic',**params)\n",
        "    xgb_model.fit(df_train[features], df_train[y])\n",
        "    y_pred = xgb_model.predict(df_test[features])\n",
        "    #score = accuracy_score(y_test, y_pred)\n",
        "    score = f1_score(df_test[y], y_pred)\n",
        "    return {'loss': -score, 'status': STATUS_OK}"
      ],
      "metadata": {
        "id": "okC6GdwWOjMZ"
      },
      "execution_count": 26,
      "outputs": []
    },
    {
      "cell_type": "code",
      "source": [
        "best_params = fmin(objective, space, algo=tpe.suggest, max_evals=100)\n",
        "print(\"Best parameters: \", best_params)"
      ],
      "metadata": {
        "colab": {
          "base_uri": "https://localhost:8080/"
        },
        "id": "ZQwO75o0O3Rd",
        "outputId": "376d2a93-d2a8-4262-a1a8-b0ade668fb4a"
      },
      "execution_count": 27,
      "outputs": [
        {
          "output_type": "stream",
          "name": "stdout",
          "text": [
            "100%|██████████| 100/100 [00:38<00:00,  2.58trial/s, best loss: -0.9432314410480349]\n",
            "Best parameters:  {'colsample_bytree': 0.5118586400408849, 'learning_rate': 0.05375221185047551, 'max_depth': 7.0, 'min_child_weight': 12.0, 'n_estimators': 744.0, 'subsample': 0.5426146441765256}\n"
          ]
        }
      ]
    },
    {
      "cell_type": "code",
      "source": [
        "for key in best_params:\n",
        "    if key in ['max_depth', 'min_child_weight', 'n_estimators']:\n",
        "        best_params[key] = int(best_params[key])\n",
        "\n",
        "print(\"Best parameters: \", best_params)"
      ],
      "metadata": {
        "colab": {
          "base_uri": "https://localhost:8080/"
        },
        "id": "B6dgK4gTPjU2",
        "outputId": "d3e48742-f288-4593-a130-8e3c9290a652"
      },
      "execution_count": 28,
      "outputs": [
        {
          "output_type": "stream",
          "name": "stdout",
          "text": [
            "Best parameters:  {'colsample_bytree': 0.5118586400408849, 'learning_rate': 0.05375221185047551, 'max_depth': 7, 'min_child_weight': 12, 'n_estimators': 744, 'subsample': 0.5426146441765256}\n"
          ]
        }
      ]
    },
    {
      "cell_type": "markdown",
      "source": [
        "###**Xgboost cross-validation**"
      ],
      "metadata": {
        "id": "4LNvv7nPQaOF"
      }
    },
    {
      "cell_type": "code",
      "source": [
        "from sklearn.model_selection import KFold"
      ],
      "metadata": {
        "id": "nDiZ-AXzPo6O"
      },
      "execution_count": null,
      "outputs": []
    },
    {
      "cell_type": "code",
      "source": [
        "# Define the classifier\n",
        "clf = xgb.XGBClassifier(objective='binary:logistic', **best_params)\n",
        "\n",
        "# Get the k folds\n",
        "kf = KFold(n_splits=10, shuffle = True, random_state=50)\n",
        "\n",
        "# Loop over folds and calculate performance measure\n",
        "results = []\n",
        "for k, (train_idx, test_idx) in enumerate(kf.split(df[features])):\n",
        "    # Fit model\n",
        "    cfit = clf.fit(df[features].iloc[train_idx], df[y].iloc[train_idx])\n",
        "\n",
        "    # Get predictions\n",
        "    y_pred = cfit.predict(df[features].iloc[test_idx])\n",
        "\n",
        "    # Write results\n",
        "    result = {'fold': k,\n",
        "              'precision': precision_score(df[y].iloc[test_idx], y_pred),\n",
        "              'recall': recall_score(df[y].iloc[test_idx], y_pred),\n",
        "              'f1': f1_score(df[y].iloc[test_idx], y_pred)}\n",
        "    # If we want to monitor progress\n",
        "    print(result)\n",
        "\n",
        "    results.append(result)"
      ],
      "metadata": {
        "colab": {
          "base_uri": "https://localhost:8080/"
        },
        "id": "MZcdknydQjfS",
        "outputId": "f909a85a-9dab-4f3e-948e-a1d5f367251e"
      },
      "execution_count": null,
      "outputs": [
        {
          "output_type": "stream",
          "name": "stdout",
          "text": [
            "{'fold': 0, 'precision': 0.8524590163934426, 'recall': 0.9904761904761905, 'f1': 0.9162995594713657}\n",
            "{'fold': 1, 'precision': 0.8677685950413223, 'recall': 1.0, 'f1': 0.9292035398230089}\n",
            "{'fold': 2, 'precision': 0.859504132231405, 'recall': 0.9904761904761905, 'f1': 0.9203539823008849}\n",
            "{'fold': 3, 'precision': 0.8442622950819673, 'recall': 1.0, 'f1': 0.9155555555555556}\n",
            "{'fold': 4, 'precision': 0.8099173553719008, 'recall': 1.0, 'f1': 0.8949771689497716}\n",
            "{'fold': 5, 'precision': 0.875, 'recall': 0.9813084112149533, 'f1': 0.9251101321585904}\n",
            "{'fold': 6, 'precision': 0.8032786885245902, 'recall': 1.0, 'f1': 0.8909090909090909}\n",
            "{'fold': 7, 'precision': 0.8429752066115702, 'recall': 1.0, 'f1': 0.914798206278027}\n",
            "{'fold': 8, 'precision': 0.8823529411764706, 'recall': 0.9722222222222222, 'f1': 0.9251101321585902}\n",
            "{'fold': 9, 'precision': 0.8677685950413223, 'recall': 1.0, 'f1': 0.9292035398230089}\n"
          ]
        }
      ]
    },
    {
      "cell_type": "code",
      "source": [
        "# results\n",
        "results_df = pd.DataFrame(results)"
      ],
      "metadata": {
        "id": "Qq43QinuRISq"
      },
      "execution_count": null,
      "outputs": []
    },
    {
      "cell_type": "code",
      "source": [
        "results_df.to_csv('TUNEDresultsmodel2.csv')"
      ],
      "metadata": {
        "id": "L7k8OMfNZHOF"
      },
      "execution_count": null,
      "outputs": []
    },
    {
      "cell_type": "code",
      "source": [
        "# Average precision\n",
        "np.mean([x['precision'] for x in results])\n",
        "print(f'Average precision is {np.mean([x[\"precision\"] for x in results])}')\n",
        "\n",
        "# Average recall\n",
        "np.mean([x['recall'] for x in results])\n",
        "print(f'Average recall is {np.mean([x[\"recall\"] for x in results])}')\n",
        "\n",
        "# Average F1\n",
        "np.mean([x['f1'] for x in results])\n",
        "print(f'Average F1 is {np.mean([x[\"f1\"] for x in results])}')"
      ],
      "metadata": {
        "colab": {
          "base_uri": "https://localhost:8080/"
        },
        "id": "cJD7cVg0RMAt",
        "outputId": "d06136db-fbad-48d0-bf7c-116465637aae"
      },
      "execution_count": null,
      "outputs": [
        {
          "output_type": "stream",
          "name": "stdout",
          "text": [
            "Average precision is 0.8505286825473991\n",
            "Average recall is 0.9934483014389557\n",
            "Average F1 is 0.9161520907427894\n"
          ]
        }
      ]
    },
    {
      "cell_type": "markdown",
      "source": [
        "##**Production Stage**\n",
        "####Putting Model 2 into production"
      ],
      "metadata": {
        "id": "elP_EBmwRT0a"
      }
    },
    {
      "cell_type": "code",
      "source": [
        "# Define the classifier\n",
        "clf = xgb.XGBClassifier(objective='binary:logistic', **best_params)\n",
        "\n",
        "# Fit on all data\n",
        "cfit = clf.fit(df[features], df[y])\n",
        "\n",
        "# Save the model\n",
        "import pickle\n",
        "pickle.dump(cfit, open('xgb_model2.pkl', 'wb'))"
      ],
      "metadata": {
        "id": "v29ZMrl3RR1A"
      },
      "execution_count": null,
      "outputs": []
    },
    {
      "cell_type": "code",
      "source": [
        "loaded_model = pickle.load(open('xgb_model2.pkl', 'rb'))"
      ],
      "metadata": {
        "id": "s9-N3sXsRkzZ"
      },
      "execution_count": null,
      "outputs": []
    },
    {
      "cell_type": "code",
      "source": [
        "df.head(1)"
      ],
      "metadata": {
        "colab": {
          "base_uri": "https://localhost:8080/",
          "height": 81
        },
        "id": "VfJCnZgaSLbL",
        "outputId": "b836c36d-104d-4ba3-a1c9-63167c3983ed"
      },
      "execution_count": null,
      "outputs": [
        {
          "output_type": "execute_result",
          "data": {
            "text/plain": [
              "   Sserial  age  sex  married  children  highest_qual  income  party  voted  \\\n",
              "0   290001    3    1        1         1             3       3      2      1   \n",
              "\n",
              "   cc_threat  \n",
              "0          0  "
            ],
            "text/html": [
              "\n",
              "  <div id=\"df-3cc2b2dd-9386-4bf8-b624-b6cb79a8eee4\" class=\"colab-df-container\">\n",
              "    <div>\n",
              "<style scoped>\n",
              "    .dataframe tbody tr th:only-of-type {\n",
              "        vertical-align: middle;\n",
              "    }\n",
              "\n",
              "    .dataframe tbody tr th {\n",
              "        vertical-align: top;\n",
              "    }\n",
              "\n",
              "    .dataframe thead th {\n",
              "        text-align: right;\n",
              "    }\n",
              "</style>\n",
              "<table border=\"1\" class=\"dataframe\">\n",
              "  <thead>\n",
              "    <tr style=\"text-align: right;\">\n",
              "      <th></th>\n",
              "      <th>Sserial</th>\n",
              "      <th>age</th>\n",
              "      <th>sex</th>\n",
              "      <th>married</th>\n",
              "      <th>children</th>\n",
              "      <th>highest_qual</th>\n",
              "      <th>income</th>\n",
              "      <th>party</th>\n",
              "      <th>voted</th>\n",
              "      <th>cc_threat</th>\n",
              "    </tr>\n",
              "  </thead>\n",
              "  <tbody>\n",
              "    <tr>\n",
              "      <th>0</th>\n",
              "      <td>290001</td>\n",
              "      <td>3</td>\n",
              "      <td>1</td>\n",
              "      <td>1</td>\n",
              "      <td>1</td>\n",
              "      <td>3</td>\n",
              "      <td>3</td>\n",
              "      <td>2</td>\n",
              "      <td>1</td>\n",
              "      <td>0</td>\n",
              "    </tr>\n",
              "  </tbody>\n",
              "</table>\n",
              "</div>\n",
              "    <div class=\"colab-df-buttons\">\n",
              "\n",
              "  <div class=\"colab-df-container\">\n",
              "    <button class=\"colab-df-convert\" onclick=\"convertToInteractive('df-3cc2b2dd-9386-4bf8-b624-b6cb79a8eee4')\"\n",
              "            title=\"Convert this dataframe to an interactive table.\"\n",
              "            style=\"display:none;\">\n",
              "\n",
              "  <svg xmlns=\"http://www.w3.org/2000/svg\" height=\"24px\" viewBox=\"0 -960 960 960\">\n",
              "    <path d=\"M120-120v-720h720v720H120Zm60-500h600v-160H180v160Zm220 220h160v-160H400v160Zm0 220h160v-160H400v160ZM180-400h160v-160H180v160Zm440 0h160v-160H620v160ZM180-180h160v-160H180v160Zm440 0h160v-160H620v160Z\"/>\n",
              "  </svg>\n",
              "    </button>\n",
              "\n",
              "  <style>\n",
              "    .colab-df-container {\n",
              "      display:flex;\n",
              "      gap: 12px;\n",
              "    }\n",
              "\n",
              "    .colab-df-convert {\n",
              "      background-color: #E8F0FE;\n",
              "      border: none;\n",
              "      border-radius: 50%;\n",
              "      cursor: pointer;\n",
              "      display: none;\n",
              "      fill: #1967D2;\n",
              "      height: 32px;\n",
              "      padding: 0 0 0 0;\n",
              "      width: 32px;\n",
              "    }\n",
              "\n",
              "    .colab-df-convert:hover {\n",
              "      background-color: #E2EBFA;\n",
              "      box-shadow: 0px 1px 2px rgba(60, 64, 67, 0.3), 0px 1px 3px 1px rgba(60, 64, 67, 0.15);\n",
              "      fill: #174EA6;\n",
              "    }\n",
              "\n",
              "    .colab-df-buttons div {\n",
              "      margin-bottom: 4px;\n",
              "    }\n",
              "\n",
              "    [theme=dark] .colab-df-convert {\n",
              "      background-color: #3B4455;\n",
              "      fill: #D2E3FC;\n",
              "    }\n",
              "\n",
              "    [theme=dark] .colab-df-convert:hover {\n",
              "      background-color: #434B5C;\n",
              "      box-shadow: 0px 1px 3px 1px rgba(0, 0, 0, 0.15);\n",
              "      filter: drop-shadow(0px 1px 2px rgba(0, 0, 0, 0.3));\n",
              "      fill: #FFFFFF;\n",
              "    }\n",
              "  </style>\n",
              "\n",
              "    <script>\n",
              "      const buttonEl =\n",
              "        document.querySelector('#df-3cc2b2dd-9386-4bf8-b624-b6cb79a8eee4 button.colab-df-convert');\n",
              "      buttonEl.style.display =\n",
              "        google.colab.kernel.accessAllowed ? 'block' : 'none';\n",
              "\n",
              "      async function convertToInteractive(key) {\n",
              "        const element = document.querySelector('#df-3cc2b2dd-9386-4bf8-b624-b6cb79a8eee4');\n",
              "        const dataTable =\n",
              "          await google.colab.kernel.invokeFunction('convertToInteractive',\n",
              "                                                    [key], {});\n",
              "        if (!dataTable) return;\n",
              "\n",
              "        const docLinkHtml = 'Like what you see? Visit the ' +\n",
              "          '<a target=\"_blank\" href=https://colab.research.google.com/notebooks/data_table.ipynb>data table notebook</a>'\n",
              "          + ' to learn more about interactive tables.';\n",
              "        element.innerHTML = '';\n",
              "        dataTable['output_type'] = 'display_data';\n",
              "        await google.colab.output.renderOutput(dataTable, element);\n",
              "        const docLink = document.createElement('div');\n",
              "        docLink.innerHTML = docLinkHtml;\n",
              "        element.appendChild(docLink);\n",
              "      }\n",
              "    </script>\n",
              "  </div>\n",
              "\n",
              "    </div>\n",
              "  </div>\n"
            ]
          },
          "metadata": {},
          "execution_count": 69
        }
      ]
    },
    {
      "cell_type": "code",
      "source": [
        "# Create a new example observation as a dictionary with the variable names as keys\n",
        "new_obs = { 'age': 7,\n",
        "            'sex': 1,\n",
        "            'married': 2,\n",
        "            'children': 1,\n",
        "            'highest_qual': 4,\n",
        "            'income': 1,\n",
        "            'party': 1,\n",
        "            'voted': 2}\n",
        "\n",
        "# Convert to a dataframe\n",
        "df_new_obs = pd.DataFrame([new_obs])\n",
        "\n",
        "# Make a prediction\n",
        "prob = loaded_model.predict_proba(df_new_obs[features])\n",
        "print(f'Probability of believe climate change is a threat {prob[0][1]}')"
      ],
      "metadata": {
        "colab": {
          "base_uri": "https://localhost:8080/"
        },
        "id": "VLITTMuXR4m-",
        "outputId": "bfe62bba-35d5-47be-fa11-723239f020f3"
      },
      "execution_count": null,
      "outputs": [
        {
          "output_type": "stream",
          "name": "stdout",
          "text": [
            "Probability of believe climate change is a threat 0.5625547766685486\n"
          ]
        }
      ]
    }
  ]
}